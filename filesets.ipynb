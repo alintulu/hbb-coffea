{
 "cells": [
  {
   "cell_type": "code",
   "execution_count": 9,
   "id": "748ed59f",
   "metadata": {},
   "outputs": [],
   "source": [
    "import os\n",
    "import json"
   ]
  },
  {
   "cell_type": "code",
   "execution_count": 10,
   "id": "995fe03f",
   "metadata": {},
   "outputs": [],
   "source": [
    "with open('infiles/pfnanoindex.json', 'r') as f:\n",
    "  filelist = json.load(f)"
   ]
  },
  {
   "cell_type": "code",
   "execution_count": 11,
   "id": "07c43f29",
   "metadata": {},
   "outputs": [],
   "source": [
    "mckeys = ['QCD', 'TTbar', 'SingleTop', 'WJetsToQQ', 'WJetsToLNu', 'ZJetsToQQ','DYJetsToLL']\n",
    "names = mckeys + ['JetHTData','SingleMuData']\n",
    "\n",
    "for year in ['2016','2017','2018']:\n",
    "    keys = mckeys + ['JetHT'+year, 'SingleMu'+year]\n",
    "\n",
    "    for i,k in enumerate(keys):\n",
    "        \n",
    "        with open('infiles/'+year+'_'+names[i]+'.json', 'w') as outfile:\n",
    "            json.dump(filelist[year][k], outfile)"
   ]
  },
  {
   "cell_type": "code",
   "execution_count": null,
   "id": "05251aed",
   "metadata": {},
   "outputs": [],
   "source": []
  }
 ],
 "metadata": {
  "kernelspec": {
   "display_name": "Python 3 (ipykernel)",
   "language": "python",
   "name": "python3"
  },
  "language_info": {
   "codemirror_mode": {
    "name": "ipython",
    "version": 3
   },
   "file_extension": ".py",
   "mimetype": "text/x-python",
   "name": "python",
   "nbconvert_exporter": "python",
   "pygments_lexer": "ipython3",
   "version": "3.8.12"
  }
 },
 "nbformat": 4,
 "nbformat_minor": 5
}
