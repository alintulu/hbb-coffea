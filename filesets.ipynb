{
 "cells": [
  {
   "cell_type": "code",
   "execution_count": 1,
   "id": "748ed59f",
   "metadata": {},
   "outputs": [],
   "source": [
    "import os\n",
    "import json"
   ]
  },
  {
   "cell_type": "code",
   "execution_count": 2,
   "id": "995fe03f",
   "metadata": {},
   "outputs": [],
   "source": [
    "with open('infiles/pfnanoindex.json', 'r') as f:\n",
    "  filelist = json.load(f)"
   ]
  },
  {
   "cell_type": "code",
   "execution_count": 6,
   "id": "07c43f29",
   "metadata": {},
   "outputs": [],
   "source": [
    "mckeys = ['QCD', 'TTbar', 'SingleTop', 'WJetsToQQ', 'WJetsToLNu', 'ZJetsToQQ','DYJetsToLL']\n",
    "names = mckeys + ['JetHTData','SingleMuData']\n",
    "\n",
    "for year in ['2016APV','2016','2017','2018']:\n",
    "    keys = mckeys + ['JetHT'+year[0:4], 'SingleMu'+year[0:4]]\n",
    "\n",
    "    for i,k in enumerate(keys):\n",
    "        \n",
    "        filelist_redirector = {}\n",
    "        for dataset, files in filelist[year][k].items():\n",
    "            filelist_redirector[dataset] = [\"root://cmsxrootd.fnal.gov/\" + f for f in files]\n",
    "        \n",
    "        with open('infiles/'+year+'_'+names[i]+'.json', 'w') as outfile:\n",
    "            json.dump(filelist_redirector, outfile)"
   ]
  },
  {
   "cell_type": "code",
   "execution_count": null,
   "id": "05251aed",
   "metadata": {},
   "outputs": [],
   "source": []
  }
 ],
 "metadata": {
  "kernelspec": {
   "display_name": "Python 3 (ipykernel)",
   "language": "python",
   "name": "python3"
  },
  "language_info": {
   "codemirror_mode": {
    "name": "ipython",
    "version": 3
   },
   "file_extension": ".py",
   "mimetype": "text/x-python",
   "name": "python",
   "nbconvert_exporter": "python",
   "pygments_lexer": "ipython3",
   "version": "3.8.12"
  }
 },
 "nbformat": 4,
 "nbformat_minor": 5
}
