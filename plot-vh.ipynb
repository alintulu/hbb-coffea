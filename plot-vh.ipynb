{
 "cells": [
  {
   "cell_type": "code",
   "execution_count": 1,
   "id": "11eb135e",
   "metadata": {},
   "outputs": [],
   "source": [
    "import os, subprocess\n",
    "import json\n",
    "import uproot3\n",
    "import awkward as ak\n",
    "import numpy as np\n",
    "from coffea import processor, util, hist\n",
    "\n",
    "import matplotlib.pyplot as plt\n",
    "\n",
    "import warnings\n",
    "warnings.filterwarnings('ignore')"
   ]
  },
  {
   "cell_type": "code",
   "execution_count": 2,
   "id": "56fc63eb",
   "metadata": {},
   "outputs": [],
   "source": [
    "with open('xsec.json') as f:\n",
    "  xs = json.load(f)\n",
    "\n",
    "with open('pmap.json') as f:\n",
    "  pmap = json.load(f)"
   ]
  },
  {
   "cell_type": "code",
   "execution_count": 3,
   "id": "cc98fd48",
   "metadata": {},
   "outputs": [],
   "source": [
    "lumis = {}\n",
    "lumis['2016'] = 35.9\n",
    "lumis['2017'] = 41.5\n",
    "lumis['2018'] = 59.9\n",
    "\n",
    "year='2017'"
   ]
  },
  {
   "cell_type": "code",
   "execution_count": 4,
   "id": "d96f0e51",
   "metadata": {},
   "outputs": [
    {
     "name": "stdout",
     "output_type": "stream",
     "text": [
      "Loading outfiles/2017_dask_higgs.coffea\n",
      "Loading outfiles/2017_dask_qcd.coffea\n",
      "Loading outfiles/2017_dask_top.coffea\n",
      "Loading outfiles/2017_dask_wandvv.coffea\n",
      "Loading outfiles/2017_dask_z.coffea\n"
     ]
    }
   ],
   "source": [
    "indir = \"outfiles/\"\n",
    "infiles = subprocess.getoutput(\"ls \"+indir+year+\"*.coffea\").split()\n",
    "\n",
    "# Check if pickle exists, remove it if it does                                                                             \n",
    "picklename = str(year)+'/templates.pkl'\n",
    "if os.path.isfile(picklename):\n",
    "    os.remove(picklename)\n",
    "\n",
    "started = 0\n",
    "for filename in infiles:\n",
    "    \n",
    "    if \"data\" in filename:\n",
    "        continue\n",
    "    if \"bsm\" in filename:\n",
    "        continue\n",
    "\n",
    "    print(\"Loading \"+filename)\n",
    "\n",
    "    if os.path.isfile(filename):\n",
    "        out = util.load(filename)\n",
    "        scale_lumi = {k: xs[k] * 1000 *lumis[year] / w for k, w in out['sumw'].items()}\n",
    "        out['templates'].scale(scale_lumi, 'dataset')\n",
    "        tmp = out['templates'].group('dataset', hist.Cat('process', 'Process'), pmap).sum('genflavor1','genflavor2').integrate('region','signal')\n",
    "\n",
    "        if started == 0:\n",
    "            templates = tmp\n",
    "            started += 1\n",
    "        else:\n",
    "            templates.add(tmp)\n",
    "    \n",
    "        del out"
   ]
  },
  {
   "cell_type": "code",
   "execution_count": 5,
   "id": "29b1c652",
   "metadata": {},
   "outputs": [
    {
     "data": {
      "text/plain": [
       "<Hist (process,msd1,msd2,ddb1,ddc2) instance at 0x7fa3e79ed970>"
      ]
     },
     "execution_count": 5,
     "metadata": {},
     "output_type": "execute_result"
    }
   ],
   "source": [
    "templates"
   ]
  },
  {
   "cell_type": "code",
   "execution_count": 6,
   "id": "375a9cdc",
   "metadata": {},
   "outputs": [],
   "source": [
    "sr = templates.sum('msd2')"
   ]
  },
  {
   "cell_type": "code",
   "execution_count": 7,
   "id": "b86c2725",
   "metadata": {},
   "outputs": [],
   "source": [
    "def nc_sig(s,b):\n",
    "    return np.sqrt(2*(s+b)*np.log(1+1.0*s/b)-2*s)\n",
    "\n",
    "def quad_sig(h,ddcvb,ddbvl):\n",
    "    # charm category\n",
    "    h1 = h.integrate('ddb1',int_range=slice(ddbvl,1)).integrate('ddc2',int_range=slice(ddcvb,1))\n",
    "    s1 = h1.integrate('process',['ZH','WH']).values()[()]\n",
    "    b1 = h1.integrate('process',['QCD','ttbar','Wjets','Zjets','singlet','VV','ggF','VBF','ttH']).values()[()]\n",
    "    z1 = nc_sig(s1,b1)\n",
    "    \n",
    "    # light category\n",
    "    h2 = h.integrate('ddb1',int_range=slice(ddbvl,1)).integrate('ddc2',int_range=slice(0,ddcvb))\n",
    "    s2 = h2.integrate('process',['ZH','WH']).values()[()]\n",
    "    b2 = h2.integrate('process',['QCD','ttbar','Wjets','Zjets','singlet','VV','ggF','VBF','ttH']).values()[()]\n",
    "    z2 = nc_sig(s2,b2)\n",
    "    \n",
    "    return np.sqrt(z1*z1+z2*z2)"
   ]
  },
  {
   "cell_type": "code",
   "execution_count": 19,
   "id": "a9fd0fbf",
   "metadata": {},
   "outputs": [
    {
     "name": "stdout",
     "output_type": "stream",
     "text": [
      "0.0 0.5072456286845844\n",
      "0.04 0.6349233991030576\n",
      "0.08 0.7336280998559974\n",
      "0.12 0.83134748626593\n",
      "0.16 0.9166433640044273\n",
      "0.2 1.0136298777959274\n",
      "0.24 1.0713060819060667\n",
      "0.28 1.1305883642096353\n",
      "0.32 1.1935612674695573\n",
      "0.36 1.2766716376578464\n",
      "0.4 1.3419740315447595\n",
      "0.44 1.4481376266175516\n",
      "0.48 1.4705397046686437\n",
      "0.52 1.7839025164799756\n",
      "0.56 1.582560542374628\n",
      "0.6 1.6323523281399803\n",
      "0.64 1.7149688519058686\n",
      "0.68 1.5903553831147939\n",
      "0.72 1.6715451369840526\n",
      "0.76 1.582728654858567\n",
      "0.8 1.803022842945712\n",
      "0.84 2.466553850742159\n",
      "0.88 2.2171905406381223\n",
      "0.92 inf\n",
      "0.96 inf\n"
     ]
    }
   ],
   "source": [
    "sigs = []\n",
    "\n",
    "for b in range(0,25):    \n",
    "    sig1 = []\n",
    "    for c in [0,0.01,0.02,0.05,0.1,0.2,0.5]:\n",
    "        z = quad_sig(sr.integrate('msd1',int_range=slice(110,138)),c,b*0.04)\n",
    "        sig1 += [z]\n",
    "    print(b*0.04,max(sig1))\n",
    "    sigs += [sig1]"
   ]
  },
  {
   "cell_type": "code",
   "execution_count": 28,
   "id": "726dc9af",
   "metadata": {},
   "outputs": [
    {
     "data": {
      "text/plain": [
       "<matplotlib.legend.Legend at 0x7fa398d0e730>"
      ]
     },
     "execution_count": 28,
     "metadata": {},
     "output_type": "execute_result"
    },
    {
     "data": {
      "image/png": "[encoded data removed]",
      "text/plain": [
       "<Figure size 432x288 with 1 Axes>"
      ]
     },
     "metadata": {
      "needs_background": "light"
     },
     "output_type": "display_data"
    }
   ],
   "source": [
    "plt.plot([b*0.04 for b in range(0,25)],sigs,label=[\"0\",\"0.01\",\"0.02\",\"0.05\",\"0.1\",\"0.2\",\"0.5\"])\n",
    "plt.legend()"
   ]
  },
  {
   "cell_type": "code",
   "execution_count": 16,
   "id": "5ec1616d",
   "metadata": {},
   "outputs": [
    {
     "data": {
      "text/plain": [
       "[1.9203928310907286,\n",
       " 1.8028871581572552,\n",
       " 1.7782737298975009,\n",
       " 1.7782737298975009,\n",
       " 1.7782737298975009,\n",
       " 2.466553850742159,\n",
       " 2.310012324148701,\n",
       " 2.0258812681549667,\n",
       " 1.8176263572932743]"
      ]
     },
     "execution_count": 16,
     "metadata": {},
     "output_type": "execute_result"
    }
   ],
   "source": [
    "sigs[int(0.84*25)]"
   ]
  },
  {
   "cell_type": "code",
   "execution_count": 18,
   "id": "b4216a16",
   "metadata": {},
   "outputs": [
    {
     "data": {
      "text/plain": [
       "[<Interval ([0, 0.01)) instance at 0x7fa3e79f2850>,\n",
       " <Interval ([0.01, 0.02)) instance at 0x7fa3e79f2970>,\n",
       " <Interval ([0.02, 0.05)) instance at 0x7fa3e79f2400>,\n",
       " <Interval ([0.05, 0.1)) instance at 0x7fa3e6893850>,\n",
       " <Interval ([0.1, 0.2)) instance at 0x7fa3e6893e50>,\n",
       " <Interval ([0.2, 0.5)) instance at 0x7fa3e6893970>,\n",
       " <Interval ([0.5, 1)) instance at 0x7fa3e6893940>]"
      ]
     },
     "execution_count": 18,
     "metadata": {},
     "output_type": "execute_result"
    }
   ],
   "source": [
    "sr.identifiers('ddc2')"
   ]
  },
  {
   "cell_type": "code",
   "execution_count": null,
   "id": "9c93dbf3",
   "metadata": {},
   "outputs": [],
   "source": []
  }
 ],
 "metadata": {
  "kernelspec": {
   "display_name": "Python 3 (ipykernel)",
   "language": "python",
   "name": "python3"
  },
  "language_info": {
   "codemirror_mode": {
    "name": "ipython",
    "version": 3
   },
   "file_extension": ".py",
   "mimetype": "text/x-python",
   "name": "python",
   "nbconvert_exporter": "python",
   "pygments_lexer": "ipython3",
   "version": "3.8.12"
  }
 },
 "nbformat": 4,
 "nbformat_minor": 5
}
